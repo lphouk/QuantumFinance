{
 "cells": [
  {
   "cell_type": "code",
   "execution_count": 6,
   "id": "198aa3f0-1965-4e1f-9e7c-7499dc6f9ad1",
   "metadata": {
    "tags": []
   },
   "outputs": [
    {
     "name": "stderr",
     "output_type": "stream",
     "text": [
      "ibmqfactory.load_account:WARNING:2023-06-04 03:58:39,246: Credentials are already in use. The existing account in the session will be replaced.\n"
     ]
    }
   ],
   "source": [
    "import pandas as pd\n",
    "import matplotlib.pyplot as plt\n",
    "import numpy as np\n",
    "import random\n",
    "\n",
    "%matplotlib inline\n",
    "\n",
    "from sklearn.metrics import mean_squared_error\n",
    "\n",
    "from qiskit import *\n",
    "from qiskit.algorithms import IterativeAmplitudeEstimation, EstimationProblem\n",
    "from qiskit.circuit.library import LinearAmplitudeFunction\n",
    "from qiskit_aer.primitives import Sampler\n",
    "from qiskit_finance.circuit.library import LogNormalDistribution\n",
    "from qiskit_finance.applications.estimation import EuropeanCallPricing\n",
    "\n",
    "# Loading your IBM Quantum account(s)\n",
    "provider = IBMQ.load_account()"
   ]
  },
  {
   "cell_type": "markdown",
   "id": "392dbbfd-470d-4c40-b78b-622a201770f7",
   "metadata": {},
   "source": [
    "We first want to define a function to randomly sample the estimates we get from the quantum algorithm."
   ]
  },
  {
   "cell_type": "code",
   "execution_count": 7,
   "id": "5aadf026-1e1f-4410-8b12-bbaba887fdbc",
   "metadata": {
    "tags": []
   },
   "outputs": [],
   "source": [
    "# Outputs an array containing the exact value, the estimated value (from the quantum estimation),\n",
    "# and the lower and upper bound of the corresponding confidence interval.\n",
    "def GetPricesRandom():\n",
    "    \n",
    "    S = np.round(random.uniform(1, 9999), decimals=4)  # initial spot price\n",
    "    vol = np.round(random.uniform(0.1, 1), decimals=4) # volatility\n",
    "    r = 0.05                                           # annual interest rate\n",
    "    T = (random.uniform(1, 365))/365                   # days to maturity\n",
    "    num_uncertainty_qubits = 3                         # number of qubits to represent the uncertainty\n",
    "    c_approx = 0.25                                    # approximation scaling for the payoff function\n",
    "\n",
    "\n",
    "    # resulting parameters for log-normal distribution\n",
    "    mu = (r - 0.5 * vol**2) * T + np.log(S)\n",
    "    sigma = vol * np.sqrt(T)\n",
    "    mean = np.exp(mu + sigma**2 / 2)\n",
    "    variance = (np.exp(sigma**2) - 1) * np.exp(2 * mu + sigma**2)\n",
    "    stddev = np.sqrt(variance)\n",
    "\n",
    "    # lowest and highest value considered for the spot price; in between, an equidistant discretization is considered.\n",
    "    low = np.maximum(0, mean - 3 * stddev)\n",
    "    high = mean + 3 * stddev\n",
    "    strike_price = np.round(random.uniform(low, high), decimals=4)\n",
    "\n",
    "    # construct A operator for QAE for the payoff function by\n",
    "    # composing the uncertainty model and the objective\n",
    "    uncertainty_model = LogNormalDistribution(\n",
    "        num_uncertainty_qubits, mu=mu, sigma=sigma**2, bounds=(low, high)\n",
    "    )\n",
    "    \n",
    "    # setup piecewise linear objective fcuntion\n",
    "    breakpoints = [low, strike_price]\n",
    "    slopes = [0, 1]\n",
    "    offsets = [0, 0]\n",
    "    f_min = 0\n",
    "    f_max = high - strike_price\n",
    "    european_call_objective = LinearAmplitudeFunction(\n",
    "        num_uncertainty_qubits,\n",
    "        slopes,\n",
    "        offsets,\n",
    "        domain=(low, high),\n",
    "        image=(f_min, f_max),\n",
    "        breakpoints=breakpoints,\n",
    "        rescaling_factor=c_approx,\n",
    "    )\n",
    "\n",
    "    # construct A operator for QAE for the payoff function by\n",
    "    # composing the uncertainty model and the objective\n",
    "    num_qubits = european_call_objective.num_qubits\n",
    "    european_call = QuantumCircuit(num_qubits)\n",
    "    european_call.append(uncertainty_model, range(num_uncertainty_qubits))\n",
    "    european_call.append(european_call_objective, range(num_qubits))\n",
    "    \n",
    "    # plot exact payoff function (evaluated on the grid of the uncertainty model)\n",
    "    x = uncertainty_model.values\n",
    "    y = np.maximum(0, x - strike_price)\n",
    "    \n",
    "    # evaluate exact expected value (normalized to the [0, 1] interval)\n",
    "    exact_value = np.dot(uncertainty_model.probabilities, y)\n",
    "    \n",
    "    # set target precision and confidence level\n",
    "    epsilon = 0.01\n",
    "    alpha = 0.05\n",
    "\n",
    "    problem = EstimationProblem(\n",
    "        state_preparation=european_call,\n",
    "        objective_qubits=[3],\n",
    "        post_processing=european_call_objective.post_processing,\n",
    "    )\n",
    "    # construct amplitude estimation\n",
    "    ae = IterativeAmplitudeEstimation(\n",
    "        epsilon_target=epsilon, alpha=alpha, sampler=Sampler(run_options={\"shots\": 100})\n",
    "    )\n",
    "    result = ae.estimate(problem)\n",
    "    conf_int = np.round(np.array(result.confidence_interval_processed), decimals=4)\n",
    "    \n",
    "    # return the exact value, estimate, and corresponding confidence interval\n",
    "    return [np.round(exact_value, decimals=4), np.round(result.estimation_processed, decimals=4), conf_int[0], conf_int[1]]\n"
   ]
  },
  {
   "cell_type": "markdown",
   "id": "f67656a7-9123-4034-9097-ea8910aad103",
   "metadata": {},
   "source": [
    "Next we run our function to get 500 random samples."
   ]
  },
  {
   "cell_type": "code",
   "execution_count": null,
   "id": "6774fbb0-0e55-4458-a52a-61db5f398e52",
   "metadata": {
    "tags": []
   },
   "outputs": [],
   "source": [
    "# Randomly sample salues generated from estimation algorithm\n",
    "fpe = []  # array of fair price estimates\n",
    "fp = []   # array of true fair prices\n",
    "\n",
    "# Sample 500 random points\n",
    "for i in range(500):\n",
    "    values = GetPricesRandom()\n",
    "    fpe.append(values[1])\n",
    "    fp.append(values[0])"
   ]
  },
  {
   "cell_type": "raw",
   "id": "5fb5ca2e-3b1a-4c8e-8a17-edf6f0f9f28e",
   "metadata": {},
   "source": [
    "And plot our results."
   ]
  },
  {
   "cell_type": "code",
   "execution_count": null,
   "id": "8999942a-ebd5-4cdc-89b0-0f728a5db8e5",
   "metadata": {
    "tags": []
   },
   "outputs": [],
   "source": [
    "# Plot a straight line\n",
    "x = np.linspace(0, max(fpe), 100)\n",
    "y = x\n",
    "plt.plot(x, y, '-r')\n",
    "\n",
    "# Plot Values\n",
    "plt.scatter(fpe, fp)\n",
    "plt.title(\"Estimated vs True Fair Prices\")\n",
    "plt.xlabel(\"Estimated Fair Price\")\n",
    "plt.ylabel(\"True Fair Price\")\n",
    "\n",
    "# Get MSE and RMSE\n",
    "mse = mean_squared_error(fp, fpe)\n",
    "rmse = np.sqrt(mse)\n",
    "print(\"Mean Squared Error:\", mse)\n",
    "print(\"Root Mean Squared Error:\", rmse)"
   ]
  },
  {
   "cell_type": "markdown",
   "id": "bbce4e0f-7f38-42a9-b2ec-b2391b951439",
   "metadata": {},
   "source": [
    "Note that our plotted data closely follows a straight line, a sign that the estimates are close to the analytically-derived results."
   ]
  },
  {
   "cell_type": "code",
   "execution_count": null,
   "id": "da4b74a2-f4dd-420a-83a9-036608b8b0ce",
   "metadata": {},
   "outputs": [],
   "source": [
    "import qiskit.tools.jupyter\n",
    "%qiskit_copyright"
   ]
  },
  {
   "cell_type": "code",
   "execution_count": null,
   "id": "b4a63385-42c9-49a7-894c-3df814aa4e94",
   "metadata": {},
   "outputs": [],
   "source": []
  }
 ],
 "metadata": {
  "kernelspec": {
   "display_name": "Python 3 (ipykernel)",
   "language": "python",
   "name": "python3"
  },
  "language_info": {
   "codemirror_mode": {
    "name": "ipython",
    "version": 3
   },
   "file_extension": ".py",
   "mimetype": "text/x-python",
   "name": "python",
   "nbconvert_exporter": "python",
   "pygments_lexer": "ipython3",
   "version": "3.10.8"
  },
  "widgets": {
   "application/vnd.jupyter.widget-state+json": {
    "state": {
     "02943fa1b6734b09b063c327fe3cc0cd": {
      "model_module": "@jupyter-widgets/controls",
      "model_module_version": "2.0.0",
      "model_name": "HTMLStyleModel",
      "state": {
       "description_width": "",
       "font_size": null,
       "text_color": null
      }
     },
     "0c34aa9c7e404d40807151052633fe86": {
      "model_module": "@jupyter-widgets/controls",
      "model_module_version": "2.0.0",
      "model_name": "HTMLModel",
      "state": {
       "layout": "IPY_MODEL_e9c63cdf3dd844d387fad1013f4b85e6",
       "style": "IPY_MODEL_c37e4e2c077e410fa9327bd314c755ee",
       "value": "<p style='font-family: IBM Plex Sans, Arial, Helvetica, sans-serif; font-size: 20px; font-weight: medium;'>Circuit Properties</p>"
      }
     },
     "1734f10b737747658a298f93d9a7b476": {
      "model_module": "@jupyter-widgets/base",
      "model_module_version": "2.0.0",
      "model_name": "LayoutModel",
      "state": {
       "width": "190px"
      }
     },
     "2d5f73936b494cd5abd00b31d68166f6": {
      "model_module": "@jupyter-widgets/controls",
      "model_module_version": "2.0.0",
      "model_name": "HTMLStyleModel",
      "state": {
       "description_width": "",
       "font_size": null,
       "text_color": null
      }
     },
     "593c7f4991814411bac368c9f4ea7ec1": {
      "model_module": "@jupyter-widgets/base",
      "model_module_version": "2.0.0",
      "model_name": "LayoutModel",
      "state": {}
     },
     "5b391900c51d42bab7708fda0811d977": {
      "model_module": "@jupyter-widgets/base",
      "model_module_version": "2.0.0",
      "model_name": "LayoutModel",
      "state": {
       "width": "95px"
      }
     },
     "5dc92151987847caaecd753a5610f963": {
      "model_module": "@jupyter-widgets/controls",
      "model_module_version": "2.0.0",
      "model_name": "HTMLModel",
      "state": {
       "layout": "IPY_MODEL_5b391900c51d42bab7708fda0811d977",
       "style": "IPY_MODEL_2d5f73936b494cd5abd00b31d68166f6",
       "value": "<h5>Status</h5>"
      }
     },
     "6f5c01c471504bfd8f9633af685b9a13": {
      "model_module": "@jupyter-widgets/controls",
      "model_module_version": "2.0.0",
      "model_name": "HTMLModel",
      "state": {
       "layout": "IPY_MODEL_fd678f4812a24f11ae5c45fa00dca5ec",
       "style": "IPY_MODEL_02943fa1b6734b09b063c327fe3cc0cd",
       "value": "<h5>Queue</h5>"
      }
     },
     "73bdb0c745884f738f05b59b523778a2": {
      "model_module": "@jupyter-widgets/controls",
      "model_module_version": "2.0.0",
      "model_name": "HBoxModel",
      "state": {
       "children": [
        "IPY_MODEL_790d24befe7b45e9937e116741ee1e60",
        "IPY_MODEL_8374e998a2dc40628c4d2f9e3d0abd21",
        "IPY_MODEL_5dc92151987847caaecd753a5610f963",
        "IPY_MODEL_6f5c01c471504bfd8f9633af685b9a13",
        "IPY_MODEL_7a55d07dd5f54ed99ee6ed6d5704e927"
       ],
       "layout": "IPY_MODEL_9b4a0f59a07d4f278bedb706687760f9"
      }
     },
     "790d24befe7b45e9937e116741ee1e60": {
      "model_module": "@jupyter-widgets/controls",
      "model_module_version": "2.0.0",
      "model_name": "HTMLModel",
      "state": {
       "layout": "IPY_MODEL_1734f10b737747658a298f93d9a7b476",
       "style": "IPY_MODEL_a20d9ba3987142e7818791078e365d60",
       "value": "<h5>Job ID</h5>"
      }
     },
     "7a55d07dd5f54ed99ee6ed6d5704e927": {
      "model_module": "@jupyter-widgets/controls",
      "model_module_version": "2.0.0",
      "model_name": "HTMLModel",
      "state": {
       "layout": "IPY_MODEL_593c7f4991814411bac368c9f4ea7ec1",
       "style": "IPY_MODEL_ed92cdcbbf214b41ae946c552323cce3",
       "value": "<h5>Message</h5>"
      }
     },
     "8374e998a2dc40628c4d2f9e3d0abd21": {
      "model_module": "@jupyter-widgets/controls",
      "model_module_version": "2.0.0",
      "model_name": "HTMLModel",
      "state": {
       "layout": "IPY_MODEL_ec9c8ecaa29840ec829a1444220d198d",
       "style": "IPY_MODEL_e95edd0247aa4e3db21d792e2678ecf2",
       "value": "<h5>Backend</h5>"
      }
     },
     "9b4a0f59a07d4f278bedb706687760f9": {
      "model_module": "@jupyter-widgets/base",
      "model_module_version": "2.0.0",
      "model_name": "LayoutModel",
      "state": {
       "margin": "0px 0px 0px 37px",
       "width": "600px"
      }
     },
     "a20d9ba3987142e7818791078e365d60": {
      "model_module": "@jupyter-widgets/controls",
      "model_module_version": "2.0.0",
      "model_name": "HTMLStyleModel",
      "state": {
       "description_width": "",
       "font_size": null,
       "text_color": null
      }
     },
     "c22b870c58c74e20a46cc5f91e3784aa": {
      "model_module": "@jupyter-widgets/base",
      "model_module_version": "2.0.0",
      "model_name": "LayoutModel",
      "state": {
       "grid_template_areas": "\n                                       \". . . . right \"\n                                        ",
       "grid_template_columns": "20% 20% 20% 20% 20%",
       "width": "100%"
      }
     },
     "c37e4e2c077e410fa9327bd314c755ee": {
      "model_module": "@jupyter-widgets/controls",
      "model_module_version": "2.0.0",
      "model_name": "HTMLStyleModel",
      "state": {
       "description_width": "",
       "font_size": null,
       "text_color": null
      }
     },
     "d2600d11f8274a25b5e65045780d9711": {
      "model_module": "@jupyter-widgets/controls",
      "model_module_version": "2.0.0",
      "model_name": "ButtonStyleModel",
      "state": {
       "font_family": null,
       "font_size": null,
       "font_style": null,
       "font_variant": null,
       "font_weight": null,
       "text_color": null,
       "text_decoration": null
      }
     },
     "e74ab98f589547b8a8f27c43a4869261": {
      "model_module": "@jupyter-widgets/controls",
      "model_module_version": "2.0.0",
      "model_name": "GridBoxModel",
      "state": {
       "children": [
        "IPY_MODEL_f2e6781ae3224ff9bf2350d464b6fe37"
       ],
       "layout": "IPY_MODEL_c22b870c58c74e20a46cc5f91e3784aa"
      }
     },
     "e95edd0247aa4e3db21d792e2678ecf2": {
      "model_module": "@jupyter-widgets/controls",
      "model_module_version": "2.0.0",
      "model_name": "HTMLStyleModel",
      "state": {
       "description_width": "",
       "font_size": null,
       "text_color": null
      }
     },
     "e9c63cdf3dd844d387fad1013f4b85e6": {
      "model_module": "@jupyter-widgets/base",
      "model_module_version": "2.0.0",
      "model_name": "LayoutModel",
      "state": {
       "margin": "0px 0px 10px 0px"
      }
     },
     "ec9c8ecaa29840ec829a1444220d198d": {
      "model_module": "@jupyter-widgets/base",
      "model_module_version": "2.0.0",
      "model_name": "LayoutModel",
      "state": {
       "width": "145px"
      }
     },
     "ed204a247d3c4de99f9999f170f2eafc": {
      "model_module": "@jupyter-widgets/base",
      "model_module_version": "2.0.0",
      "model_name": "LayoutModel",
      "state": {
       "grid_area": "right",
       "padding": "0px 0px 0px 0px",
       "width": "70px"
      }
     },
     "ed92cdcbbf214b41ae946c552323cce3": {
      "model_module": "@jupyter-widgets/controls",
      "model_module_version": "2.0.0",
      "model_name": "HTMLStyleModel",
      "state": {
       "description_width": "",
       "font_size": null,
       "text_color": null
      }
     },
     "f2e6781ae3224ff9bf2350d464b6fe37": {
      "model_module": "@jupyter-widgets/controls",
      "model_module_version": "2.0.0",
      "model_name": "ButtonModel",
      "state": {
       "button_style": "primary",
       "description": "Clear",
       "layout": "IPY_MODEL_ed204a247d3c4de99f9999f170f2eafc",
       "style": "IPY_MODEL_d2600d11f8274a25b5e65045780d9711",
       "tooltip": null
      }
     },
     "fd678f4812a24f11ae5c45fa00dca5ec": {
      "model_module": "@jupyter-widgets/base",
      "model_module_version": "2.0.0",
      "model_name": "LayoutModel",
      "state": {
       "width": "70px"
      }
     }
    },
    "version_major": 2,
    "version_minor": 0
   }
  }
 },
 "nbformat": 4,
 "nbformat_minor": 5
}
